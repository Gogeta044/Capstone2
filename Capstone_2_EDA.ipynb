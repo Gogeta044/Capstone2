{
 "cells": [
  {
   "cell_type": "markdown",
   "metadata": {},
   "source": [
    "# Exploratory Data Analysis (EDA)"
   ]
  },
  {
   "cell_type": "markdown",
   "metadata": {},
   "source": [
    "Conduct EDA on real estate data to analyze relationships between variables"
   ]
  },
  {
   "cell_type": "code",
   "execution_count": 1,
   "metadata": {},
   "outputs": [],
   "source": [
    "# Import Libraries\n",
    "\n",
    "import numpy as np \n",
    "import pandas as pd \n",
    "import matplotlib.pyplot as plt \n",
    "import seaborn as sns"
   ]
  },
  {
   "cell_type": "code",
   "execution_count": 2,
   "metadata": {},
   "outputs": [],
   "source": [
    "df = pd.read_csv(r'C:\\Users\\bronc\\Downloads\\Capstone 2\\Real_Estate_Sales_2001-2018(clean).csv')"
   ]
  },
  {
   "cell_type": "code",
   "execution_count": 3,
   "metadata": {},
   "outputs": [
    {
     "data": {
      "text/html": [
       "<div>\n",
       "<style scoped>\n",
       "    .dataframe tbody tr th:only-of-type {\n",
       "        vertical-align: middle;\n",
       "    }\n",
       "\n",
       "    .dataframe tbody tr th {\n",
       "        vertical-align: top;\n",
       "    }\n",
       "\n",
       "    .dataframe thead th {\n",
       "        text-align: right;\n",
       "    }\n",
       "</style>\n",
       "<table border=\"1\" class=\"dataframe\">\n",
       "  <thead>\n",
       "    <tr style=\"text-align: right;\">\n",
       "      <th></th>\n",
       "      <th>Unnamed: 0</th>\n",
       "      <th>SerialNumber</th>\n",
       "      <th>ListYear</th>\n",
       "      <th>DateRecorded</th>\n",
       "      <th>Town</th>\n",
       "      <th>Address</th>\n",
       "      <th>AssessedValue</th>\n",
       "      <th>SaleAmount</th>\n",
       "      <th>SalesRatio</th>\n",
       "      <th>PropertyType</th>\n",
       "      <th>ResidentialType</th>\n",
       "    </tr>\n",
       "  </thead>\n",
       "  <tbody>\n",
       "    <tr>\n",
       "      <th>0</th>\n",
       "      <td>0</td>\n",
       "      <td>110540</td>\n",
       "      <td>2011</td>\n",
       "      <td>2012-04-03</td>\n",
       "      <td>Stamford</td>\n",
       "      <td>56 CHERRY HILL ROAD</td>\n",
       "      <td>795870</td>\n",
       "      <td>690000</td>\n",
       "      <td>0.866976</td>\n",
       "      <td>Residential</td>\n",
       "      <td>Single Family</td>\n",
       "    </tr>\n",
       "    <tr>\n",
       "      <th>1</th>\n",
       "      <td>1</td>\n",
       "      <td>120025</td>\n",
       "      <td>2012</td>\n",
       "      <td>2012-10-05</td>\n",
       "      <td>Greenwich</td>\n",
       "      <td>78 BALDWIN FARMS SOUTH, GREENW</td>\n",
       "      <td>1925560</td>\n",
       "      <td>3224000</td>\n",
       "      <td>1.674318</td>\n",
       "      <td>Residential</td>\n",
       "      <td>Single Family</td>\n",
       "    </tr>\n",
       "    <tr>\n",
       "      <th>2</th>\n",
       "      <td>3</td>\n",
       "      <td>60173</td>\n",
       "      <td>2006</td>\n",
       "      <td>2006-12-28</td>\n",
       "      <td>Windsor</td>\n",
       "      <td>7 ALFORD DR</td>\n",
       "      <td>189630</td>\n",
       "      <td>309000</td>\n",
       "      <td>1.629489</td>\n",
       "      <td>Residential</td>\n",
       "      <td>Single Family</td>\n",
       "    </tr>\n",
       "    <tr>\n",
       "      <th>3</th>\n",
       "      <td>5</td>\n",
       "      <td>14539</td>\n",
       "      <td>2014</td>\n",
       "      <td>2015-05-28</td>\n",
       "      <td>Milford</td>\n",
       "      <td>170 MEADOWSIDE RD</td>\n",
       "      <td>147340</td>\n",
       "      <td>150000</td>\n",
       "      <td>1.018053</td>\n",
       "      <td>Residential</td>\n",
       "      <td>Single Family</td>\n",
       "    </tr>\n",
       "    <tr>\n",
       "      <th>4</th>\n",
       "      <td>9</td>\n",
       "      <td>160629</td>\n",
       "      <td>2016</td>\n",
       "      <td>2017-01-31</td>\n",
       "      <td>Bridgeport</td>\n",
       "      <td>75 EDGEMOOR RD</td>\n",
       "      <td>163380</td>\n",
       "      <td>180000</td>\n",
       "      <td>1.101726</td>\n",
       "      <td>Residential</td>\n",
       "      <td>Single Family</td>\n",
       "    </tr>\n",
       "  </tbody>\n",
       "</table>\n",
       "</div>"
      ],
      "text/plain": [
       "   Unnamed: 0  SerialNumber  ListYear DateRecorded        Town  \\\n",
       "0           0        110540      2011   2012-04-03    Stamford   \n",
       "1           1        120025      2012   2012-10-05   Greenwich   \n",
       "2           3         60173      2006   2006-12-28     Windsor   \n",
       "3           5         14539      2014   2015-05-28     Milford   \n",
       "4           9        160629      2016   2017-01-31  Bridgeport   \n",
       "\n",
       "                          Address  AssessedValue  SaleAmount  SalesRatio  \\\n",
       "0             56 CHERRY HILL ROAD         795870      690000    0.866976   \n",
       "1  78 BALDWIN FARMS SOUTH, GREENW        1925560     3224000    1.674318   \n",
       "2                     7 ALFORD DR         189630      309000    1.629489   \n",
       "3               170 MEADOWSIDE RD         147340      150000    1.018053   \n",
       "4                  75 EDGEMOOR RD         163380      180000    1.101726   \n",
       "\n",
       "  PropertyType ResidentialType  \n",
       "0  Residential   Single Family  \n",
       "1  Residential   Single Family  \n",
       "2  Residential   Single Family  \n",
       "3  Residential   Single Family  \n",
       "4  Residential   Single Family  "
      ]
     },
     "execution_count": 3,
     "metadata": {},
     "output_type": "execute_result"
    }
   ],
   "source": [
    "df.head()"
   ]
  },
  {
   "cell_type": "code",
   "execution_count": 4,
   "metadata": {},
   "outputs": [
    {
     "name": "stdout",
     "output_type": "stream",
     "text": [
      "<class 'pandas.core.frame.DataFrame'>\n",
      "RangeIndex: 580245 entries, 0 to 580244\n",
      "Data columns (total 11 columns):\n",
      " #   Column           Non-Null Count   Dtype  \n",
      "---  ------           --------------   -----  \n",
      " 0   Unnamed: 0       580245 non-null  int64  \n",
      " 1   SerialNumber     580245 non-null  int64  \n",
      " 2   ListYear         580245 non-null  int64  \n",
      " 3   DateRecorded     580245 non-null  object \n",
      " 4   Town             580245 non-null  object \n",
      " 5   Address          580245 non-null  object \n",
      " 6   AssessedValue    580245 non-null  int64  \n",
      " 7   SaleAmount       580245 non-null  int64  \n",
      " 8   SalesRatio       580245 non-null  float64\n",
      " 9   PropertyType     580245 non-null  object \n",
      " 10  ResidentialType  580245 non-null  object \n",
      "dtypes: float64(1), int64(5), object(5)\n",
      "memory usage: 48.7+ MB\n"
     ]
    }
   ],
   "source": [
    "#Let's review the data to see if there's anything else to clean up before EDA\n",
    "\n",
    "df.info()"
   ]
  },
  {
   "cell_type": "code",
   "execution_count": 5,
   "metadata": {},
   "outputs": [
    {
     "data": {
      "text/plain": [
       "Residential    580130\n",
       "Vacant Land        64\n",
       "Commercial         36\n",
       "Industrial          8\n",
       "Apartments          7\n",
       "Name: PropertyType, dtype: int64"
      ]
     },
     "execution_count": 5,
     "metadata": {},
     "output_type": "execute_result"
    }
   ],
   "source": [
    "df.PropertyType.value_counts()"
   ]
  },
  {
   "cell_type": "code",
   "execution_count": 6,
   "metadata": {},
   "outputs": [
    {
     "data": {
      "text/plain": [
       "Single Family    529249\n",
       "Two Family        33170\n",
       "Three Family      16849\n",
       "Four Family         908\n",
       "Multi Family         69\n",
       "Name: ResidentialType, dtype: int64"
      ]
     },
     "execution_count": 6,
     "metadata": {},
     "output_type": "execute_result"
    }
   ],
   "source": [
    "df.ResidentialType.value_counts()"
   ]
  },
  {
   "cell_type": "code",
   "execution_count": 7,
   "metadata": {},
   "outputs": [],
   "source": [
    "# After inspecting these variables I decided to remove the non-residential property types as I want to focus on the others for analysis\n",
    "\n",
    "df = df[df['PropertyType'] == 'Residential']"
   ]
  },
  {
   "cell_type": "code",
   "execution_count": 8,
   "metadata": {},
   "outputs": [
    {
     "name": "stdout",
     "output_type": "stream",
     "text": [
      "<class 'pandas.core.frame.DataFrame'>\n",
      "Int64Index: 580130 entries, 0 to 580244\n",
      "Data columns (total 11 columns):\n",
      " #   Column           Non-Null Count   Dtype  \n",
      "---  ------           --------------   -----  \n",
      " 0   Unnamed: 0       580130 non-null  int64  \n",
      " 1   SerialNumber     580130 non-null  int64  \n",
      " 2   ListYear         580130 non-null  int64  \n",
      " 3   DateRecorded     580130 non-null  object \n",
      " 4   Town             580130 non-null  object \n",
      " 5   Address          580130 non-null  object \n",
      " 6   AssessedValue    580130 non-null  int64  \n",
      " 7   SaleAmount       580130 non-null  int64  \n",
      " 8   SalesRatio       580130 non-null  float64\n",
      " 9   PropertyType     580130 non-null  object \n",
      " 10  ResidentialType  580130 non-null  object \n",
      "dtypes: float64(1), int64(5), object(5)\n",
      "memory usage: 53.1+ MB\n"
     ]
    }
   ],
   "source": [
    "# Verify that all variables now have 580,130 rows\n",
    "\n",
    "df.info()"
   ]
  },
  {
   "cell_type": "code",
   "execution_count": 9,
   "metadata": {},
   "outputs": [
    {
     "data": {
      "text/html": [
       "<div>\n",
       "<style scoped>\n",
       "    .dataframe tbody tr th:only-of-type {\n",
       "        vertical-align: middle;\n",
       "    }\n",
       "\n",
       "    .dataframe tbody tr th {\n",
       "        vertical-align: top;\n",
       "    }\n",
       "\n",
       "    .dataframe thead th {\n",
       "        text-align: right;\n",
       "    }\n",
       "</style>\n",
       "<table border=\"1\" class=\"dataframe\">\n",
       "  <thead>\n",
       "    <tr style=\"text-align: right;\">\n",
       "      <th></th>\n",
       "      <th>Unnamed: 0</th>\n",
       "      <th>SerialNumber</th>\n",
       "      <th>ListYear</th>\n",
       "      <th>AssessedValue</th>\n",
       "      <th>SaleAmount</th>\n",
       "      <th>SalesRatio</th>\n",
       "    </tr>\n",
       "  </thead>\n",
       "  <tbody>\n",
       "    <tr>\n",
       "      <th>count</th>\n",
       "      <td>580130.000000</td>\n",
       "      <td>5.801300e+05</td>\n",
       "      <td>580130.000000</td>\n",
       "      <td>5.801300e+05</td>\n",
       "      <td>5.801300e+05</td>\n",
       "      <td>5.801300e+05</td>\n",
       "    </tr>\n",
       "    <tr>\n",
       "      <th>mean</th>\n",
       "      <td>486418.292574</td>\n",
       "      <td>1.162658e+05</td>\n",
       "      <td>2007.900236</td>\n",
       "      <td>2.190469e+05</td>\n",
       "      <td>3.521517e+05</td>\n",
       "      <td>inf</td>\n",
       "    </tr>\n",
       "    <tr>\n",
       "      <th>std</th>\n",
       "      <td>262262.985355</td>\n",
       "      <td>5.502732e+05</td>\n",
       "      <td>5.043963</td>\n",
       "      <td>4.210077e+05</td>\n",
       "      <td>1.362463e+06</td>\n",
       "      <td>NaN</td>\n",
       "    </tr>\n",
       "    <tr>\n",
       "      <th>min</th>\n",
       "      <td>0.000000</td>\n",
       "      <td>8.200000e+01</td>\n",
       "      <td>2001.000000</td>\n",
       "      <td>0.000000e+00</td>\n",
       "      <td>0.000000e+00</td>\n",
       "      <td>0.000000e+00</td>\n",
       "    </tr>\n",
       "    <tr>\n",
       "      <th>25%</th>\n",
       "      <td>301507.500000</td>\n",
       "      <td>2.088000e+04</td>\n",
       "      <td>2003.000000</td>\n",
       "      <td>9.436000e+04</td>\n",
       "      <td>1.500000e+05</td>\n",
       "      <td>1.266148e+00</td>\n",
       "    </tr>\n",
       "    <tr>\n",
       "      <th>50%</th>\n",
       "      <td>504531.500000</td>\n",
       "      <td>5.146250e+04</td>\n",
       "      <td>2007.000000</td>\n",
       "      <td>1.421300e+05</td>\n",
       "      <td>2.320000e+05</td>\n",
       "      <td>1.597131e+00</td>\n",
       "    </tr>\n",
       "    <tr>\n",
       "      <th>75%</th>\n",
       "      <td>708487.750000</td>\n",
       "      <td>1.204190e+05</td>\n",
       "      <td>2013.000000</td>\n",
       "      <td>2.240900e+05</td>\n",
       "      <td>3.660000e+05</td>\n",
       "      <td>2.050398e+00</td>\n",
       "    </tr>\n",
       "    <tr>\n",
       "      <th>max</th>\n",
       "      <td>912300.000000</td>\n",
       "      <td>1.600397e+07</td>\n",
       "      <td>2016.000000</td>\n",
       "      <td>1.106702e+08</td>\n",
       "      <td>9.409400e+08</td>\n",
       "      <td>inf</td>\n",
       "    </tr>\n",
       "  </tbody>\n",
       "</table>\n",
       "</div>"
      ],
      "text/plain": [
       "          Unnamed: 0  SerialNumber       ListYear  AssessedValue  \\\n",
       "count  580130.000000  5.801300e+05  580130.000000   5.801300e+05   \n",
       "mean   486418.292574  1.162658e+05    2007.900236   2.190469e+05   \n",
       "std    262262.985355  5.502732e+05       5.043963   4.210077e+05   \n",
       "min         0.000000  8.200000e+01    2001.000000   0.000000e+00   \n",
       "25%    301507.500000  2.088000e+04    2003.000000   9.436000e+04   \n",
       "50%    504531.500000  5.146250e+04    2007.000000   1.421300e+05   \n",
       "75%    708487.750000  1.204190e+05    2013.000000   2.240900e+05   \n",
       "max    912300.000000  1.600397e+07    2016.000000   1.106702e+08   \n",
       "\n",
       "         SaleAmount    SalesRatio  \n",
       "count  5.801300e+05  5.801300e+05  \n",
       "mean   3.521517e+05           inf  \n",
       "std    1.362463e+06           NaN  \n",
       "min    0.000000e+00  0.000000e+00  \n",
       "25%    1.500000e+05  1.266148e+00  \n",
       "50%    2.320000e+05  1.597131e+00  \n",
       "75%    3.660000e+05  2.050398e+00  \n",
       "max    9.409400e+08           inf  "
      ]
     },
     "execution_count": 9,
     "metadata": {},
     "output_type": "execute_result"
    }
   ],
   "source": [
    "df.describe()"
   ]
  },
  {
   "cell_type": "code",
   "execution_count": 10,
   "metadata": {},
   "outputs": [
    {
     "data": {
      "text/plain": [
       "0          2919\n",
       "84000       259\n",
       "105000      252\n",
       "91000       229\n",
       "112000      228\n",
       "           ... \n",
       "363770        1\n",
       "11050         1\n",
       "31520         1\n",
       "683270        1\n",
       "1530280       1\n",
       "Name: AssessedValue, Length: 68109, dtype: int64"
      ]
     },
     "execution_count": 10,
     "metadata": {},
     "output_type": "execute_result"
    }
   ],
   "source": [
    "df.AssessedValue.value_counts()"
   ]
  },
  {
   "cell_type": "code",
   "execution_count": 11,
   "metadata": {},
   "outputs": [
    {
     "data": {
      "text/plain": [
       "150000    5576\n",
       "250000    5035\n",
       "175000    4709\n",
       "225000    4652\n",
       "180000    4611\n",
       "          ... \n",
       "282178       1\n",
       "484903       1\n",
       "398857       1\n",
       "579025       1\n",
       "59363        1\n",
       "Name: SaleAmount, Length: 33907, dtype: int64"
      ]
     },
     "execution_count": 11,
     "metadata": {},
     "output_type": "execute_result"
    }
   ],
   "source": [
    "df.SaleAmount.value_counts()"
   ]
  },
  {
   "cell_type": "code",
   "execution_count": 12,
   "metadata": {},
   "outputs": [],
   "source": [
    "df = df[df['AssessedValue'] > 0]"
   ]
  },
  {
   "cell_type": "code",
   "execution_count": 13,
   "metadata": {},
   "outputs": [],
   "source": [
    "df = df[df['SaleAmount'] > 0]"
   ]
  },
  {
   "cell_type": "code",
   "execution_count": 14,
   "metadata": {},
   "outputs": [
    {
     "name": "stdout",
     "output_type": "stream",
     "text": [
      "<class 'pandas.core.frame.DataFrame'>\n",
      "Int64Index: 576065 entries, 0 to 580244\n",
      "Data columns (total 11 columns):\n",
      " #   Column           Non-Null Count   Dtype  \n",
      "---  ------           --------------   -----  \n",
      " 0   Unnamed: 0       576065 non-null  int64  \n",
      " 1   SerialNumber     576065 non-null  int64  \n",
      " 2   ListYear         576065 non-null  int64  \n",
      " 3   DateRecorded     576065 non-null  object \n",
      " 4   Town             576065 non-null  object \n",
      " 5   Address          576065 non-null  object \n",
      " 6   AssessedValue    576065 non-null  int64  \n",
      " 7   SaleAmount       576065 non-null  int64  \n",
      " 8   SalesRatio       576065 non-null  float64\n",
      " 9   PropertyType     576065 non-null  object \n",
      " 10  ResidentialType  576065 non-null  object \n",
      "dtypes: float64(1), int64(5), object(5)\n",
      "memory usage: 52.7+ MB\n"
     ]
    }
   ],
   "source": [
    "df.info()"
   ]
  },
  {
   "cell_type": "markdown",
   "metadata": {},
   "source": [
    "The maximum values for AssessedValue and SaleAmount is quite high at over 100 million dollars. Since we're trying to get a grasp on residential error let's see what happens to our data with a max of less than 5 million"
   ]
  },
  {
   "cell_type": "code",
   "execution_count": 15,
   "metadata": {},
   "outputs": [],
   "source": [
    "df = df[df['AssessedValue'] < 5000000]"
   ]
  },
  {
   "cell_type": "code",
   "execution_count": 16,
   "metadata": {},
   "outputs": [],
   "source": [
    "df = df[df['SaleAmount'] < 5000000]"
   ]
  },
  {
   "cell_type": "code",
   "execution_count": 17,
   "metadata": {},
   "outputs": [
    {
     "name": "stdout",
     "output_type": "stream",
     "text": [
      "<class 'pandas.core.frame.DataFrame'>\n",
      "Int64Index: 574715 entries, 0 to 580244\n",
      "Data columns (total 11 columns):\n",
      " #   Column           Non-Null Count   Dtype  \n",
      "---  ------           --------------   -----  \n",
      " 0   Unnamed: 0       574715 non-null  int64  \n",
      " 1   SerialNumber     574715 non-null  int64  \n",
      " 2   ListYear         574715 non-null  int64  \n",
      " 3   DateRecorded     574715 non-null  object \n",
      " 4   Town             574715 non-null  object \n",
      " 5   Address          574715 non-null  object \n",
      " 6   AssessedValue    574715 non-null  int64  \n",
      " 7   SaleAmount       574715 non-null  int64  \n",
      " 8   SalesRatio       574715 non-null  float64\n",
      " 9   PropertyType     574715 non-null  object \n",
      " 10  ResidentialType  574715 non-null  object \n",
      "dtypes: float64(1), int64(5), object(5)\n",
      "memory usage: 52.6+ MB\n"
     ]
    }
   ],
   "source": [
    "df.info()"
   ]
  },
  {
   "cell_type": "markdown",
   "metadata": {},
   "source": [
    "This restriction only lost us 1350 rows of data which with our size is less than 1% and should provide more meaningful analysis. Next we'll verify that this worked."
   ]
  },
  {
   "cell_type": "code",
   "execution_count": 18,
   "metadata": {},
   "outputs": [
    {
     "data": {
      "text/html": [
       "<div>\n",
       "<style scoped>\n",
       "    .dataframe tbody tr th:only-of-type {\n",
       "        vertical-align: middle;\n",
       "    }\n",
       "\n",
       "    .dataframe tbody tr th {\n",
       "        vertical-align: top;\n",
       "    }\n",
       "\n",
       "    .dataframe thead th {\n",
       "        text-align: right;\n",
       "    }\n",
       "</style>\n",
       "<table border=\"1\" class=\"dataframe\">\n",
       "  <thead>\n",
       "    <tr style=\"text-align: right;\">\n",
       "      <th></th>\n",
       "      <th>Unnamed: 0</th>\n",
       "      <th>SerialNumber</th>\n",
       "      <th>ListYear</th>\n",
       "      <th>AssessedValue</th>\n",
       "      <th>SaleAmount</th>\n",
       "      <th>SalesRatio</th>\n",
       "    </tr>\n",
       "  </thead>\n",
       "  <tbody>\n",
       "    <tr>\n",
       "      <th>count</th>\n",
       "      <td>574715.000000</td>\n",
       "      <td>5.747150e+05</td>\n",
       "      <td>574715.000000</td>\n",
       "      <td>5.747150e+05</td>\n",
       "      <td>5.747150e+05</td>\n",
       "      <td>5.747150e+05</td>\n",
       "    </tr>\n",
       "    <tr>\n",
       "      <th>mean</th>\n",
       "      <td>487150.980627</td>\n",
       "      <td>1.168182e+05</td>\n",
       "      <td>2007.921766</td>\n",
       "      <td>2.097660e+05</td>\n",
       "      <td>3.356076e+05</td>\n",
       "      <td>2.674725e+00</td>\n",
       "    </tr>\n",
       "    <tr>\n",
       "      <th>std</th>\n",
       "      <td>262789.800900</td>\n",
       "      <td>5.527755e+05</td>\n",
       "      <td>5.044352</td>\n",
       "      <td>2.578989e+05</td>\n",
       "      <td>3.986677e+05</td>\n",
       "      <td>2.323596e+02</td>\n",
       "    </tr>\n",
       "    <tr>\n",
       "      <th>min</th>\n",
       "      <td>0.000000</td>\n",
       "      <td>8.200000e+01</td>\n",
       "      <td>2001.000000</td>\n",
       "      <td>1.000000e+00</td>\n",
       "      <td>1.000000e+00</td>\n",
       "      <td>8.153814e-07</td>\n",
       "    </tr>\n",
       "    <tr>\n",
       "      <th>25%</th>\n",
       "      <td>301406.000000</td>\n",
       "      <td>2.088900e+04</td>\n",
       "      <td>2003.000000</td>\n",
       "      <td>9.505000e+04</td>\n",
       "      <td>1.501000e+05</td>\n",
       "      <td>1.266434e+00</td>\n",
       "    </tr>\n",
       "    <tr>\n",
       "      <th>50%</th>\n",
       "      <td>506928.000000</td>\n",
       "      <td>5.174900e+04</td>\n",
       "      <td>2007.000000</td>\n",
       "      <td>1.425900e+05</td>\n",
       "      <td>2.325000e+05</td>\n",
       "      <td>1.594454e+00</td>\n",
       "    </tr>\n",
       "    <tr>\n",
       "      <th>75%</th>\n",
       "      <td>709670.500000</td>\n",
       "      <td>1.204710e+05</td>\n",
       "      <td>2013.000000</td>\n",
       "      <td>2.240700e+05</td>\n",
       "      <td>3.650000e+05</td>\n",
       "      <td>2.041974e+00</td>\n",
       "    </tr>\n",
       "    <tr>\n",
       "      <th>max</th>\n",
       "      <td>912300.000000</td>\n",
       "      <td>1.600397e+07</td>\n",
       "      <td>2016.000000</td>\n",
       "      <td>4.948370e+06</td>\n",
       "      <td>4.998000e+06</td>\n",
       "      <td>1.416667e+05</td>\n",
       "    </tr>\n",
       "  </tbody>\n",
       "</table>\n",
       "</div>"
      ],
      "text/plain": [
       "          Unnamed: 0  SerialNumber       ListYear  AssessedValue  \\\n",
       "count  574715.000000  5.747150e+05  574715.000000   5.747150e+05   \n",
       "mean   487150.980627  1.168182e+05    2007.921766   2.097660e+05   \n",
       "std    262789.800900  5.527755e+05       5.044352   2.578989e+05   \n",
       "min         0.000000  8.200000e+01    2001.000000   1.000000e+00   \n",
       "25%    301406.000000  2.088900e+04    2003.000000   9.505000e+04   \n",
       "50%    506928.000000  5.174900e+04    2007.000000   1.425900e+05   \n",
       "75%    709670.500000  1.204710e+05    2013.000000   2.240700e+05   \n",
       "max    912300.000000  1.600397e+07    2016.000000   4.948370e+06   \n",
       "\n",
       "         SaleAmount    SalesRatio  \n",
       "count  5.747150e+05  5.747150e+05  \n",
       "mean   3.356076e+05  2.674725e+00  \n",
       "std    3.986677e+05  2.323596e+02  \n",
       "min    1.000000e+00  8.153814e-07  \n",
       "25%    1.501000e+05  1.266434e+00  \n",
       "50%    2.325000e+05  1.594454e+00  \n",
       "75%    3.650000e+05  2.041974e+00  \n",
       "max    4.998000e+06  1.416667e+05  "
      ]
     },
     "execution_count": 18,
     "metadata": {},
     "output_type": "execute_result"
    }
   ],
   "source": [
    "df.describe()"
   ]
  },
  {
   "cell_type": "markdown",
   "metadata": {},
   "source": [
    "Next let's make a new column for the month to see if there's a particular month where home values are higher or lower than average"
   ]
  },
  {
   "cell_type": "code",
   "execution_count": 19,
   "metadata": {},
   "outputs": [
    {
     "data": {
      "text/html": [
       "<div>\n",
       "<style scoped>\n",
       "    .dataframe tbody tr th:only-of-type {\n",
       "        vertical-align: middle;\n",
       "    }\n",
       "\n",
       "    .dataframe tbody tr th {\n",
       "        vertical-align: top;\n",
       "    }\n",
       "\n",
       "    .dataframe thead th {\n",
       "        text-align: right;\n",
       "    }\n",
       "</style>\n",
       "<table border=\"1\" class=\"dataframe\">\n",
       "  <thead>\n",
       "    <tr style=\"text-align: right;\">\n",
       "      <th></th>\n",
       "      <th>Unnamed: 0</th>\n",
       "      <th>SerialNumber</th>\n",
       "      <th>ListYear</th>\n",
       "      <th>DateRecorded</th>\n",
       "      <th>Town</th>\n",
       "      <th>Address</th>\n",
       "      <th>AssessedValue</th>\n",
       "      <th>SaleAmount</th>\n",
       "      <th>SalesRatio</th>\n",
       "      <th>PropertyType</th>\n",
       "      <th>ResidentialType</th>\n",
       "      <th>Month</th>\n",
       "    </tr>\n",
       "  </thead>\n",
       "  <tbody>\n",
       "    <tr>\n",
       "      <th>0</th>\n",
       "      <td>0</td>\n",
       "      <td>110540</td>\n",
       "      <td>2011</td>\n",
       "      <td>2012-04-03</td>\n",
       "      <td>Stamford</td>\n",
       "      <td>56 CHERRY HILL ROAD</td>\n",
       "      <td>795870</td>\n",
       "      <td>690000</td>\n",
       "      <td>0.866976</td>\n",
       "      <td>Residential</td>\n",
       "      <td>Single Family</td>\n",
       "      <td>4</td>\n",
       "    </tr>\n",
       "    <tr>\n",
       "      <th>1</th>\n",
       "      <td>1</td>\n",
       "      <td>120025</td>\n",
       "      <td>2012</td>\n",
       "      <td>2012-10-05</td>\n",
       "      <td>Greenwich</td>\n",
       "      <td>78 BALDWIN FARMS SOUTH, GREENW</td>\n",
       "      <td>1925560</td>\n",
       "      <td>3224000</td>\n",
       "      <td>1.674318</td>\n",
       "      <td>Residential</td>\n",
       "      <td>Single Family</td>\n",
       "      <td>10</td>\n",
       "    </tr>\n",
       "    <tr>\n",
       "      <th>2</th>\n",
       "      <td>3</td>\n",
       "      <td>60173</td>\n",
       "      <td>2006</td>\n",
       "      <td>2006-12-28</td>\n",
       "      <td>Windsor</td>\n",
       "      <td>7 ALFORD DR</td>\n",
       "      <td>189630</td>\n",
       "      <td>309000</td>\n",
       "      <td>1.629489</td>\n",
       "      <td>Residential</td>\n",
       "      <td>Single Family</td>\n",
       "      <td>12</td>\n",
       "    </tr>\n",
       "    <tr>\n",
       "      <th>3</th>\n",
       "      <td>5</td>\n",
       "      <td>14539</td>\n",
       "      <td>2014</td>\n",
       "      <td>2015-05-28</td>\n",
       "      <td>Milford</td>\n",
       "      <td>170 MEADOWSIDE RD</td>\n",
       "      <td>147340</td>\n",
       "      <td>150000</td>\n",
       "      <td>1.018053</td>\n",
       "      <td>Residential</td>\n",
       "      <td>Single Family</td>\n",
       "      <td>5</td>\n",
       "    </tr>\n",
       "    <tr>\n",
       "      <th>4</th>\n",
       "      <td>9</td>\n",
       "      <td>160629</td>\n",
       "      <td>2016</td>\n",
       "      <td>2017-01-31</td>\n",
       "      <td>Bridgeport</td>\n",
       "      <td>75 EDGEMOOR RD</td>\n",
       "      <td>163380</td>\n",
       "      <td>180000</td>\n",
       "      <td>1.101726</td>\n",
       "      <td>Residential</td>\n",
       "      <td>Single Family</td>\n",
       "      <td>1</td>\n",
       "    </tr>\n",
       "  </tbody>\n",
       "</table>\n",
       "</div>"
      ],
      "text/plain": [
       "   Unnamed: 0  SerialNumber  ListYear DateRecorded        Town  \\\n",
       "0           0        110540      2011   2012-04-03    Stamford   \n",
       "1           1        120025      2012   2012-10-05   Greenwich   \n",
       "2           3         60173      2006   2006-12-28     Windsor   \n",
       "3           5         14539      2014   2015-05-28     Milford   \n",
       "4           9        160629      2016   2017-01-31  Bridgeport   \n",
       "\n",
       "                          Address  AssessedValue  SaleAmount  SalesRatio  \\\n",
       "0             56 CHERRY HILL ROAD         795870      690000    0.866976   \n",
       "1  78 BALDWIN FARMS SOUTH, GREENW        1925560     3224000    1.674318   \n",
       "2                     7 ALFORD DR         189630      309000    1.629489   \n",
       "3               170 MEADOWSIDE RD         147340      150000    1.018053   \n",
       "4                  75 EDGEMOOR RD         163380      180000    1.101726   \n",
       "\n",
       "  PropertyType ResidentialType  Month  \n",
       "0  Residential   Single Family      4  \n",
       "1  Residential   Single Family     10  \n",
       "2  Residential   Single Family     12  \n",
       "3  Residential   Single Family      5  \n",
       "4  Residential   Single Family      1  "
      ]
     },
     "execution_count": 19,
     "metadata": {},
     "output_type": "execute_result"
    }
   ],
   "source": [
    "df['Month'] = pd.DatetimeIndex(df['DateRecorded']).month\n",
    "df.head()"
   ]
  },
  {
   "cell_type": "markdown",
   "metadata": {},
   "source": [
    "# Data Distributions and Correlations"
   ]
  },
  {
   "cell_type": "code",
   "execution_count": 20,
   "metadata": {},
   "outputs": [
    {
     "data": {
      "image/png": "[encoded data removed]",
      "text/plain": [
       "<Figure size 432x288 with 1 Axes>"
      ]
     },
     "metadata": {
      "needs_background": "light"
     },
     "output_type": "display_data"
    }
   ],
   "source": [
    "#Let's look at some histograms of the key variables of interest\n",
    "Value = df['AssessedValue']\n",
    "Sale = df['SaleAmount']\n",
    "plt.hist([Value, Sale], color = ['red', 'black'], bins = 50)\n",
    "plt.xlabel('Value')\n",
    "plt.ylabel('Count')\n",
    "plt.title('Value vs. Sale Amount')\n",
    "plt.show()"
   ]
  },
  {
   "cell_type": "markdown",
   "metadata": {},
   "source": [
    "The histogram shows us that our data is left skewed as we would expect with house prices"
   ]
  },
  {
   "cell_type": "code",
   "execution_count": 21,
   "metadata": {},
   "outputs": [
    {
     "data": {
      "text/plain": [
       "Text(0, 0.5, 'Avg. Sale Price')"
      ]
     },
     "execution_count": 21,
     "metadata": {},
     "output_type": "execute_result"
    },
    {
     "data": {
      "image/png": "[encoded data removed]",
      "text/plain": [
       "<Figure size 432x288 with 1 Axes>"
      ]
     },
     "metadata": {
      "needs_background": "light"
     },
     "output_type": "display_data"
    }
   ],
   "source": [
    "# Let's look at SaleAmount grouped by Month\n",
    "sns.barplot(data=df, x='Month', y='SaleAmount', color='blue')\n",
    "plt.xlabel('Month')\n",
    "plt.ylabel('Avg. Sale Price')"
   ]
  },
  {
   "cell_type": "markdown",
   "metadata": {},
   "source": [
    "Here we see that the house value for sales in each month average at least 300k while in the summer months of June through August the values peak around 350k. This is worth noting for later as we can see that the middle of the year is better for home values"
   ]
  },
  {
   "cell_type": "code",
   "execution_count": 22,
   "metadata": {},
   "outputs": [
    {
     "data": {
      "text/plain": [
       "<AxesSubplot:>"
      ]
     },
     "execution_count": 22,
     "metadata": {},
     "output_type": "execute_result"
    },
    {
     "data": {
      "image/png": "[encoded data removed]",
      "text/plain": [
       "<Figure size 432x288 with 2 Axes>"
      ]
     },
     "metadata": {
      "needs_background": "light"
     },
     "output_type": "display_data"
    }
   ],
   "source": [
    "# Next let's look at a heatmap to see potential correlations\n",
    "\n",
    "sns.heatmap(df.corr(), annot=True, cmap=\"coolwarm\")"
   ]
  },
  {
   "cell_type": "markdown",
   "metadata": {},
   "source": [
    "There look like there's only 1 combination that has strong correlation. AssessedValue and SaleAmount with a Pearson Correlation Coefficient of 0.86. Attempting to run a pairplot didn't seem to work. My best guess is that the data file is too large. Next let's inspect the correlation between these two variables"
   ]
  },
  {
   "cell_type": "markdown",
   "metadata": {},
   "source": [
    "# Visualizing Correlations"
   ]
  },
  {
   "cell_type": "code",
   "execution_count": 23,
   "metadata": {},
   "outputs": [
    {
     "data": {
      "text/plain": [
       "<AxesSubplot:xlabel='AssessedValue', ylabel='SaleAmount'>"
      ]
     },
     "execution_count": 23,
     "metadata": {},
     "output_type": "execute_result"
    },
    {
     "data": {
      "image/png": "[encoded data removed]",
      "text/plain": [
       "<Figure size 432x288 with 1 Axes>"
      ]
     },
     "metadata": {
      "needs_background": "light"
     },
     "output_type": "display_data"
    }
   ],
   "source": [
    "#Let's view the relationship between AssessedValue and SaleAmount\n",
    "sns.regplot(x='AssessedValue', y='SaleAmount', data=df, scatter = True, line_kws={\"color\": \"red\"})"
   ]
  },
  {
   "cell_type": "markdown",
   "metadata": {},
   "source": [
    "# Correlation Assessment"
   ]
  },
  {
   "cell_type": "markdown",
   "metadata": {},
   "source": [
    "These 2 variables are highly correlated and the line definitely shows that. While the data is quite bunched together, our line of best fit is almost perfectly diagonal as our Pearson Correlation Coefficiant of 0.86 would suggest. We'll dive into this in more depth when we try to model the data."
   ]
  },
  {
   "cell_type": "code",
   "execution_count": null,
   "metadata": {},
   "outputs": [],
   "source": []
  }
 ],
 "metadata": {
  "kernelspec": {
   "display_name": "Python 3",
   "language": "python",
   "name": "python3"
  },
  "language_info": {
   "codemirror_mode": {
    "name": "ipython",
    "version": 3
   },
   "file_extension": ".py",
   "mimetype": "text/x-python",
   "name": "python",
   "nbconvert_exporter": "python",
   "pygments_lexer": "ipython3",
   "version": "3.7.6"
  }
 },
 "nbformat": 4,
 "nbformat_minor": 4
}
